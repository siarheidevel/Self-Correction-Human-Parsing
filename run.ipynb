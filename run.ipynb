{
 "cells": [
  {
   "cell_type": "code",
   "execution_count": 3,
   "id": "747e29e1",
   "metadata": {},
   "outputs": [
    {
     "name": "stderr",
     "output_type": "stream",
     "text": [
      "Downloading...\n",
      "From: https://drive.google.com/uc?id=1k4dllHpu0bdx38J7H28rVVLpU-kOHmnH\n",
      "To: /home/deeplab/devel/Self-Correction-Human-Parsing/checkpoints/lip.pth\n",
      "267MB [01:51, 2.39MB/s] \n",
      "Downloading...\n",
      "From: https://drive.google.com/uc?id=1ruJg4lqR_jgQPj-9K0PP-L2vJERYOxLP\n",
      "To: /home/deeplab/devel/Self-Correction-Human-Parsing/checkpoints/atr.pth\n",
      "267MB [01:55, 2.32MB/s] \n",
      "Downloading...\n",
      "From: https://drive.google.com/uc?id=1E5YwNKW2VOEayK9mWCS3Kpsxf-3z04ZE\n",
      "To: /home/deeplab/devel/Self-Correction-Human-Parsing/checkpoints/pascal.pth\n",
      "267MB [02:01, 2.19MB/s] \n"
     ]
    },
    {
     "data": {
      "text/plain": [
       "'checkpoints/pascal.pth'"
      ]
     },
     "execution_count": 3,
     "metadata": {},
     "output_type": "execute_result"
    }
   ],
   "source": [
    "import gdown\n",
    "# if dataset == 'lip':\n",
    "#     url = 'https://drive.google.com/uc?id=1k4dllHpu0bdx38J7H28rVVLpU-kOHmnH'\n",
    "# elif dataset == 'atr':\n",
    "#     url = 'https://drive.google.com/uc?id=1ruJg4lqR_jgQPj-9K0PP-L2vJERYOxLP'\n",
    "# elif dataset == 'pascal':\n",
    "#     url = 'https://drive.google.com/uc?id=1E5YwNKW2VOEayK9mWCS3Kpsxf-3z04ZE'\n",
    "\n",
    "# output = 'checkpoints/final.pth'\n",
    "gdown.download('https://drive.google.com/uc?id=1k4dllHpu0bdx38J7H28rVVLpU-kOHmnH', 'checkpoints/lip.pth', quiet=False)\n",
    "gdown.download('https://drive.google.com/uc?id=1ruJg4lqR_jgQPj-9K0PP-L2vJERYOxLP', 'checkpoints/atr.pth', quiet=False)\n",
    "gdown.download('https://drive.google.com/uc?id=1E5YwNKW2VOEayK9mWCS3Kpsxf-3z04ZE', 'checkpoints/pascal.pth', quiet=False)\n"
   ]
  },
  {
   "cell_type": "code",
   "execution_count": 6,
   "id": "3446f4b0",
   "metadata": {},
   "outputs": [],
   "source": [
    "import torch"
   ]
  },
  {
   "cell_type": "code",
   "execution_count": 8,
   "id": "6a247d39",
   "metadata": {},
   "outputs": [
    {
     "name": "stdout",
     "output_type": "stream",
     "text": [
      "None\n"
     ]
    }
   ],
   "source": [
    "import os\n",
    "print(os.environ.get('CUDA_PATH'))"
   ]
  },
  {
   "cell_type": "code",
   "execution_count": 4,
   "id": "a24824fb",
   "metadata": {},
   "outputs": [
    {
     "name": "stdout",
     "output_type": "stream",
     "text": [
      "Traceback (most recent call last):\n",
      "  File \"/home/deeplab/devel/Self-Correction-Human-Parsing/simple_extractor.py\", line 15, in <module>\n",
      "    import torch\n",
      "ModuleNotFoundError: No module named 'torch'\n"
     ]
    }
   ],
   "source": [
    "!python simple_extractor.py --dataset 'lip' --model-restore 'checkpoints/lip.pth' --input-dir 'inputs' --output-dir 'outputs'"
   ]
  },
  {
   "cell_type": "code",
   "execution_count": null,
   "id": "847c9530",
   "metadata": {},
   "outputs": [],
   "source": [
    "\n",
    "import os\n",
    "import torch\n",
    "import argparse\n",
    "import numpy as np\n",
    "from PIL import Image\n",
    "from tqdm import tqdm\n",
    "\n",
    "from torch.utils.data import DataLoader\n",
    "import torchvision.transforms as transforms\n",
    "\n",
    "import networks\n",
    "from utils.transforms import transform_logits\n",
    "from datasets.simple_extractor_dataset import SimpleFolderDataset\n",
    "\n",
    "dataset_settings = {\n",
    "    'lip': {\n",
    "        'input_size': [473, 473],\n",
    "        'num_classes': 20,\n",
    "        'label': ['Background', 'Hat', 'Hair', 'Glove', 'Sunglasses', 'Upper-clothes', 'Dress', 'Coat',\n",
    "                  'Socks', 'Pants', 'Jumpsuits', 'Scarf', 'Skirt', 'Face', 'Left-arm', 'Right-arm',\n",
    "                  'Left-leg', 'Right-leg', 'Left-shoe', 'Right-shoe']\n",
    "    },\n",
    "    'atr': {\n",
    "        'input_size': [512, 512],\n",
    "        'num_classes': 18,\n",
    "        'label': ['Background', 'Hat', 'Hair', 'Sunglasses', 'Upper-clothes', 'Skirt', 'Pants', 'Dress', 'Belt',\n",
    "                  'Left-shoe', 'Right-shoe', 'Face', 'Left-leg', 'Right-leg', 'Left-arm', 'Right-arm', 'Bag', 'Scarf']\n",
    "    },\n",
    "    'pascal': {\n",
    "        'input_size': [512, 512],\n",
    "        'num_classes': 7,\n",
    "        'label': ['Background', 'Head', 'Torso', 'Upper Arms', 'Lower Arms', 'Upper Legs', 'Lower Legs'],\n",
    "    }\n",
    "}\n",
    "\n",
    "\n",
    "def get_arguments():\n",
    "    \"\"\"Parse all the arguments provided from the CLI.\n",
    "    Returns:\n",
    "      A list of parsed arguments.\n",
    "    \"\"\"\n",
    "    parser = argparse.ArgumentParser(description=\"Self Correction for Human Parsing\")\n",
    "\n",
    "    parser.add_argument(\"--dataset\", type=str, default='lip', choices=['lip', 'atr', 'pascal'])\n",
    "    parser.add_argument(\"--model-restore\", type=str, default='', help=\"restore pretrained model parameters.\")\n",
    "    parser.add_argument(\"--gpu\", type=str, default='0', help=\"choose gpu device.\")\n",
    "    parser.add_argument(\"--input-dir\", type=str, default='', help=\"path of input image folder.\")\n",
    "    parser.add_argument(\"--output-dir\", type=str, default='', help=\"path of output image folder.\")\n",
    "    parser.add_argument(\"--logits\", action='store_true', default=False, help=\"whether to save the logits.\")\n",
    "\n",
    "    return parser.parse_args()\n",
    "\n",
    "\n",
    "def get_palette(num_cls):\n",
    "    \"\"\" Returns the color map for visualizing the segmentation mask.\n",
    "    Args:\n",
    "        num_cls: Number of classes\n",
    "    Returns:\n",
    "        The color map\n",
    "    \"\"\"\n",
    "    n = num_cls\n",
    "    palette = [0] * (n * 3)\n",
    "    for j in range(0, n):\n",
    "        lab = j\n",
    "        palette[j * 3 + 0] = 0\n",
    "        palette[j * 3 + 1] = 0\n",
    "        palette[j * 3 + 2] = 0\n",
    "        i = 0\n",
    "        while lab:\n",
    "            palette[j * 3 + 0] |= (((lab >> 0) & 1) << (7 - i))\n",
    "            palette[j * 3 + 1] |= (((lab >> 1) & 1) << (7 - i))\n",
    "            palette[j * 3 + 2] |= (((lab >> 2) & 1) << (7 - i))\n",
    "            i += 1\n",
    "            lab >>= 3\n",
    "    return palette\n",
    "\n",
    "\n",
    "def main():\n",
    "    args = get_arguments()\n",
    "\n",
    "    gpus = [int(i) for i in args.gpu.split(',')]\n",
    "    assert len(gpus) == 1\n",
    "    if not args.gpu == 'None':\n",
    "        os.environ[\"CUDA_VISIBLE_DEVICES\"] = args.gpu\n",
    "\n",
    "    num_classes = dataset_settings[args.dataset]['num_classes']\n",
    "    input_size = dataset_settings[args.dataset]['input_size']\n",
    "    label = dataset_settings[args.dataset]['label']\n",
    "    print(\"Evaluating total class number {} with {}\".format(num_classes, label))\n",
    "\n",
    "    model = networks.init_model('resnet101', num_classes=num_classes, pretrained=None)\n",
    "\n",
    "    state_dict = torch.load(args.model_restore)['state_dict']\n",
    "    from collections import OrderedDict\n",
    "    new_state_dict = OrderedDict()\n",
    "    for k, v in state_dict.items():\n",
    "        name = k[7:]  # remove `module.`\n",
    "        new_state_dict[name] = v\n",
    "    model.load_state_dict(new_state_dict)\n",
    "    model.cuda()\n",
    "    model.eval()\n",
    "\n",
    "    transform = transforms.Compose([\n",
    "        transforms.ToTensor(),\n",
    "        transforms.Normalize(mean=[0.406, 0.456, 0.485], std=[0.225, 0.224, 0.229])\n",
    "    ])\n",
    "    dataset = SimpleFolderDataset(root=args.input_dir, input_size=input_size, transform=transform)\n",
    "    dataloader = DataLoader(dataset)\n",
    "\n",
    "    if not os.path.exists(args.output_dir):\n",
    "        os.makedirs(args.output_dir)\n",
    "\n",
    "    palette = get_palette(num_classes)\n",
    "    with torch.no_grad():\n",
    "        for idx, batch in enumerate(tqdm(dataloader)):\n",
    "            image, meta = batch\n",
    "            img_name = meta['name'][0]\n",
    "            c = meta['center'].numpy()[0]\n",
    "            s = meta['scale'].numpy()[0]\n",
    "            w = meta['width'].numpy()[0]\n",
    "            h = meta['height'].numpy()[0]\n",
    "\n",
    "            output = model(image.cuda())\n",
    "            upsample = torch.nn.Upsample(size=input_size, mode='bilinear', align_corners=True)\n",
    "            upsample_output = upsample(output[0][-1][0].unsqueeze(0))\n",
    "            upsample_output = upsample_output.squeeze()\n",
    "            upsample_output = upsample_output.permute(1, 2, 0)  # CHW -> HWC\n",
    "\n",
    "            logits_result = transform_logits(upsample_output.data.cpu().numpy(), c, s, w, h, input_size=input_size)\n",
    "            parsing_result = np.argmax(logits_result, axis=2)\n",
    "            parsing_result_path = os.path.join(args.output_dir, img_name[:-4] + '.png')\n",
    "            output_img = Image.fromarray(np.asarray(parsing_result, dtype=np.uint8))\n",
    "            output_img.putpalette(palette)\n",
    "            output_img.save(parsing_result_path)\n",
    "            if args.logits:\n",
    "                logits_result_path = os.path.join(args.output_dir, img_name[:-4] + '.npy')\n",
    "                np.save(logits_result_path, logits_result)\n",
    "    return"
   ]
  }
 ],
 "metadata": {
  "kernelspec": {
   "display_name": "deep",
   "language": "python",
   "name": "deep"
  },
  "language_info": {
   "codemirror_mode": {
    "name": "ipython",
    "version": 3
   },
   "file_extension": ".py",
   "mimetype": "text/x-python",
   "name": "python",
   "nbconvert_exporter": "python",
   "pygments_lexer": "ipython3",
   "version": "3.8.8"
  }
 },
 "nbformat": 4,
 "nbformat_minor": 5
}
